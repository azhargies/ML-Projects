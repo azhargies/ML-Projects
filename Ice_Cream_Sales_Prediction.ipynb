{
  "nbformat": 4,
  "nbformat_minor": 0,
  "metadata": {
    "colab": {
      "provenance": [],
      "authorship_tag": "ABX9TyNdK7EvxQkATbO+tSe1vgth",
      "include_colab_link": true
    },
    "kernelspec": {
      "name": "python3",
      "display_name": "Python 3"
    },
    "language_info": {
      "name": "python"
    }
  },
  "cells": [
    {
      "cell_type": "markdown",
      "metadata": {
        "id": "view-in-github",
        "colab_type": "text"
      },
      "source": [
        "<a href=\"https://colab.research.google.com/github/azhargies/ML-Projects/blob/CV/Ice_Cream_Sales_Prediction.ipynb\" target=\"_parent\"><img src=\"https://colab.research.google.com/assets/colab-badge.svg\" alt=\"Open In Colab\"/></a>"
      ]
    },
    {
      "cell_type": "code",
      "execution_count": null,
      "metadata": {
        "id": "FlBTGhqAifek"
      },
      "outputs": [],
      "source": [
        "import pandas as pd\n",
        "import numpy as np\n",
        "import tensorflow as tf\n",
        "import seaborn as sns\n",
        "import tensorflow as tf"
      ]
    },
    {
      "cell_type": "code",
      "source": [
        "data = pd.read_csv(\"/content/SalesData.csv\")\n",
        "data.head()"
      ],
      "metadata": {
        "id": "sS51xTjvjKiK"
      },
      "execution_count": null,
      "outputs": []
    },
    {
      "cell_type": "code",
      "source": [
        "X = data[\"Temperature\"]\n",
        "Y = data[\"Revenue\"]\n"
      ],
      "metadata": {
        "id": "GQURGNuLjQ4m"
      },
      "execution_count": null,
      "outputs": []
    },
    {
      "cell_type": "code",
      "source": [
        "data.shape"
      ],
      "metadata": {
        "id": "galMo9f7jfeG"
      },
      "execution_count": null,
      "outputs": []
    },
    {
      "cell_type": "code",
      "source": [
        "from sklearn.model_selection import train_test_split\n",
        "\n",
        "xtrain,xtest,ytrain,ytest = train_test_split(X,Y, test_size=0.2, random_state = 2)"
      ],
      "metadata": {
        "id": "Z1nV49rCkHZI"
      },
      "execution_count": null,
      "outputs": []
    },
    {
      "cell_type": "code",
      "source": [
        "xtrain.head()"
      ],
      "metadata": {
        "id": "RCXiy_6Jkgns"
      },
      "execution_count": null,
      "outputs": []
    },
    {
      "cell_type": "code",
      "source": [
        "xtrain.shape, xtest.shape"
      ],
      "metadata": {
        "id": "z4sNnWvDkiPd"
      },
      "execution_count": null,
      "outputs": []
    },
    {
      "cell_type": "code",
      "source": [
        "model = tf.keras.Sequential()\n",
        "model.add(tf.keras.layers.Dense(1, input_shape=[1]))\n",
        "\n",
        "model.summary()\n",
        "\n",
        "model.compile(tf.keras.optimizers.Adam(\n",
        "    learning_rate=0.25), loss = \"mean_squared_error\")\n",
        "\n",
        "model.fit(xtrain, ytrain, epochs = 1000)"
      ],
      "metadata": {
        "id": "gRL4sy38kmap"
      },
      "execution_count": null,
      "outputs": []
    },
    {
      "cell_type": "code",
      "source": [
        "model.evaluate(xtest,ytest)"
      ],
      "metadata": {
        "id": "34GJ0u7NmSLP"
      },
      "execution_count": null,
      "outputs": []
    },
    {
      "cell_type": "code",
      "source": [
        "model.predict([27])"
      ],
      "metadata": {
        "id": "XnIUZQFZnmIX"
      },
      "execution_count": null,
      "outputs": []
    },
    {
      "cell_type": "code",
      "source": [
        "model_new = tf.keras.Sequential()\n",
        "model_new.add(tf.keras.layers.Dense(16, input_shape=[1]))\n",
        "model_new.add(tf.keras.layers.Dense(units = 1))\n",
        "\n",
        "model_new.summary()\n",
        "\n",
        "model_new.compile(tf.keras.optimizers.Adam(\n",
        "    learning_rate=0.25), loss = \"mean_squared_error\")\n",
        "\n",
        "model_new.fit(X, Y, epochs = 1000)"
      ],
      "metadata": {
        "id": "vkFPjIe5nu7D"
      },
      "execution_count": null,
      "outputs": []
    },
    {
      "cell_type": "code",
      "source": [
        "model_new.evaluate(xtest,ytest)"
      ],
      "metadata": {
        "id": "FygBjKYwoLRN"
      },
      "execution_count": null,
      "outputs": []
    },
    {
      "cell_type": "code",
      "source": [],
      "metadata": {
        "id": "hdPGZFiRodmd"
      },
      "execution_count": null,
      "outputs": []
    }
  ]
}